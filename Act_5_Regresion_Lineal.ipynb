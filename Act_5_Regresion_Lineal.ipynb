{
  "nbformat": 4,
  "nbformat_minor": 0,
  "metadata": {
    "colab": {
      "provenance": [],
      "include_colab_link": true
    },
    "kernelspec": {
      "name": "python3",
      "display_name": "Python 3"
    },
    "language_info": {
      "name": "python"
    }
  },
  "cells": [
    {
      "cell_type": "markdown",
      "metadata": {
        "id": "view-in-github",
        "colab_type": "text"
      },
      "source": [
        "<a href=\"https://colab.research.google.com/github/josecarlostruebaa/Act-5-Regresion-lineal/blob/main/Act_5_Regresion_Lineal.ipynb\" target=\"_parent\"><img src=\"https://colab.research.google.com/assets/colab-badge.svg\" alt=\"Open In Colab\"/></a>"
      ]
    },
    {
      "cell_type": "code",
      "source": [
        "import pandas as pd\n",
        "import numpy as np\n",
        "import matplotlib.pyplot as plt\n",
        "import seaborn as sn"
      ],
      "metadata": {
        "id": "eB7uz1cJJm9S"
      },
      "execution_count": null,
      "outputs": []
    },
    {
      "cell_type": "code",
      "execution_count": null,
      "metadata": {
        "id": "nXMBM9QoJTLd"
      },
      "outputs": [],
      "source": [
        "#Cargar archivo csv desde equipo\n",
        "from google.colab import files\n",
        "files.upload()"
      ]
    },
    {
      "cell_type": "code",
      "source": [
        "df= pd.read_csv(\"cuentas_credicel.csv\", encoding= 'latin')\n",
        "pd.options.display.max_columns = None\n",
        "df.head(2)"
      ],
      "metadata": {
        "id": "xAEGHdrvJgBs"
      },
      "execution_count": null,
      "outputs": []
    },
    {
      "cell_type": "code",
      "source": [
        "df.info()"
      ],
      "metadata": {
        "id": "C97VusS5oBye"
      },
      "execution_count": null,
      "outputs": []
    },
    {
      "cell_type": "markdown",
      "source": [
        "**Convertir columna plazo**"
      ],
      "metadata": {
        "id": "IjGG7ByU7s2J"
      }
    },
    {
      "cell_type": "code",
      "source": [
        "#Eliminar un signo de una columna\n",
        "df['plazo']=df['plazo'].str.replace('S', '')"
      ],
      "metadata": {
        "id": "z8hOWVLs7mVJ"
      },
      "execution_count": null,
      "outputs": []
    },
    {
      "cell_type": "code",
      "source": [
        "#Conversión de tipo de dato de columna de tipo Object a int\n",
        "df['plazo']= df['plazo'].astype(int)"
      ],
      "metadata": {
        "id": "vJPdQECr7qqT"
      },
      "execution_count": null,
      "outputs": []
    },
    {
      "cell_type": "markdown",
      "source": [
        "**Convertir riesgo**"
      ],
      "metadata": {
        "id": "syuFNNNC9XwV"
      }
    },
    {
      "cell_type": "code",
      "source": [
        "#Sustituyo los strings Atraso, Cancelado y Fraude por la constante \"0\"\n",
        "df['riesgo']=df['riesgo'].str.replace('Atraso', '0')\n",
        "df['riesgo']=df['riesgo'].str.replace('Cancelado', '0')\n",
        "df['riesgo']=df['riesgo'].str.replace('Fraude', '0')"
      ],
      "metadata": {
        "id": "m5RY2Kv-73Tu"
      },
      "execution_count": null,
      "outputs": []
    },
    {
      "cell_type": "code",
      "source": [
        "riesgo_categorias = df.groupby(['riesgo'])['riesgo'].count()\n",
        "riesgo_categorias"
      ],
      "metadata": {
        "id": "UkKRr6KR77Yh"
      },
      "execution_count": null,
      "outputs": []
    },
    {
      "cell_type": "code",
      "source": [
        "df[\"riesgo\"]= df[\"riesgo\"].fillna(0)"
      ],
      "metadata": {
        "id": "54zhj0-e7-Ed"
      },
      "execution_count": null,
      "outputs": []
    },
    {
      "cell_type": "code",
      "source": [
        "df[\"porc_enganche\"]=df[\"porc_enganche\"].fillna(method=\"bfill\")"
      ],
      "metadata": {
        "id": "vzXPOzIN_LuA"
      },
      "execution_count": null,
      "outputs": []
    },
    {
      "cell_type": "code",
      "source": [
        "#Declaramos las variables dependientes e independientes para la regresión lineal\n",
        "Vars_Indep= df[['score_buro']]\n",
        "Var_Dep= df['enganche']\n",
        "#Se define model como la función de regresión lineal\n",
        "from sklearn.linear_model import LinearRegression\n",
        "model= LinearRegression()\n",
        "#Ajustamos el modelo con las variables antes declaradas\n",
        "model.fit(X=Vars_Indep, y=Var_Dep)\n",
        "#Verificamos los coeficientes obtenidos para el modelo ajustado\n",
        "model.__dict__"
      ],
      "metadata": {
        "id": "NGRULsraKt8M"
      },
      "execution_count": null,
      "outputs": []
    },
    {
      "cell_type": "markdown",
      "source": [
        "\n",
        "**1er Modelo Matemático: y=8.30362837x+928.5596445591957**"
      ],
      "metadata": {
        "id": "9D_scvMQOQu4"
      }
    },
    {
      "cell_type": "code",
      "source": [
        "y_pred= model.predict(X=df[[\"score_buro\"]])\n",
        "y_pred"
      ],
      "metadata": {
        "id": "vBGQx2gLgI3-"
      },
      "execution_count": null,
      "outputs": []
    },
    {
      "cell_type": "code",
      "source": [
        "coef_Deter=model.score(X=Vars_Indep, y=Var_Dep)\n",
        "coef_Deter"
      ],
      "metadata": {
        "colab": {
          "base_uri": "https://localhost:8080/"
        },
        "id": "3Vfvyqz-pFTL",
        "outputId": "5bf17b04-970a-49d5-e9ae-ce0e0209fb6b"
      },
      "execution_count": null,
      "outputs": [
        {
          "output_type": "execute_result",
          "data": {
            "text/plain": [
              "0.006785706027080618"
            ]
          },
          "metadata": {},
          "execution_count": 13
        }
      ]
    },
    {
      "cell_type": "code",
      "source": [
        "coef_Correl=np.sqrt(coef_Deter)\n",
        "coef_Correl"
      ],
      "metadata": {
        "colab": {
          "base_uri": "https://localhost:8080/"
        },
        "id": "CdLJTmkGnnus",
        "outputId": "c18a6103-cd1d-4160-dfa7-251ab1f5495e"
      },
      "execution_count": null,
      "outputs": [
        {
          "output_type": "execute_result",
          "data": {
            "text/plain": [
              "0.08237539697677103"
            ]
          },
          "metadata": {},
          "execution_count": 14
        }
      ]
    },
    {
      "cell_type": "code",
      "source": [
        "#Declaramos las variables dependientes e independientes para la regresión lineal\n",
        "Vars_Indep= df[['score_buro']]\n",
        "Var_Dep= df['precio']\n",
        "#Se define model como la función de regresión lineal\n",
        "from sklearn.linear_model import LinearRegression\n",
        "model= LinearRegression()\n",
        "#Ajustamos el modelo con las variables antes declaradas\n",
        "model.fit(X=Vars_Indep, y=Var_Dep)\n",
        "#Verificamos los coeficientes obtenidos para el modelo ajustado\n",
        "model.__dict__"
      ],
      "metadata": {
        "id": "VgL3UxrXnCJy"
      },
      "execution_count": null,
      "outputs": []
    },
    {
      "cell_type": "markdown",
      "source": [
        "**2do Modelo Matemático: y= -7.11615993x +3995.217831233963**"
      ],
      "metadata": {
        "id": "poaUWPQgnJO3"
      }
    },
    {
      "cell_type": "code",
      "source": [
        "y_pred= model.predict(X=df[[\"score_buro\"]])\n",
        "y_pred"
      ],
      "metadata": {
        "id": "jEeG-YI4naw-"
      },
      "execution_count": null,
      "outputs": []
    },
    {
      "cell_type": "code",
      "source": [
        "coef_Deter=model.score(X=Vars_Indep, y=Var_Dep)\n",
        "coef_Deter"
      ],
      "metadata": {
        "colab": {
          "base_uri": "https://localhost:8080/"
        },
        "id": "VDqmKwFjnoix",
        "outputId": "7c4b19b6-f469-4072-e94c-d6b850567dba"
      },
      "execution_count": null,
      "outputs": [
        {
          "output_type": "execute_result",
          "data": {
            "text/plain": [
              "0.0006109088972575671"
            ]
          },
          "metadata": {},
          "execution_count": 12
        }
      ]
    },
    {
      "cell_type": "code",
      "source": [
        "coef_Correl=np.sqrt(coef_Deter)\n",
        "coef_Correl"
      ],
      "metadata": {
        "colab": {
          "base_uri": "https://localhost:8080/"
        },
        "id": "8ZVgl0VZnrxs",
        "outputId": "794ecd55-fa76-4de7-9d79-3c64241ca107"
      },
      "execution_count": null,
      "outputs": [
        {
          "output_type": "execute_result",
          "data": {
            "text/plain": [
              "0.02471657130869019"
            ]
          },
          "metadata": {},
          "execution_count": 13
        }
      ]
    },
    {
      "cell_type": "code",
      "source": [
        "#Declaramos las variables dependientes e independientes para la regresión lineal\n",
        "Vars_Indep= df[['score_buro']]\n",
        "Var_Dep= df['costo_total']\n",
        "#Se define model como la función de regresión lineal\n",
        "from sklearn.linear_model import LinearRegression\n",
        "model= LinearRegression()\n",
        "#Ajustamos el modelo con las variables antes declaradas\n",
        "model.fit(X=Vars_Indep, y=Var_Dep)\n",
        "#Verificamos los coeficientes obtenidos para el modelo ajustado\n",
        "model.__dict__"
      ],
      "metadata": {
        "id": "L0t0Azbkn3AG"
      },
      "execution_count": null,
      "outputs": []
    },
    {
      "cell_type": "markdown",
      "source": [
        "**3er Modelo Matemático: y=-18.95458459x+5694.847880533092**"
      ],
      "metadata": {
        "id": "OZOUTM4Sn6av"
      }
    },
    {
      "cell_type": "code",
      "source": [
        "y_pred= model.predict(X=df[[\"score_buro\"]])\n",
        "y_pred"
      ],
      "metadata": {
        "id": "XfgHxvu2oLXF"
      },
      "execution_count": null,
      "outputs": []
    },
    {
      "cell_type": "code",
      "source": [
        "coef_Deter=model.score(X=Vars_Indep, y=Var_Dep)\n",
        "coef_Deter"
      ],
      "metadata": {
        "colab": {
          "base_uri": "https://localhost:8080/"
        },
        "id": "cTiv2ht4oOj8",
        "outputId": "7c265410-047f-43bc-8d2a-749513a211a1"
      },
      "execution_count": null,
      "outputs": [
        {
          "output_type": "execute_result",
          "data": {
            "text/plain": [
              "0.001411319050099502"
            ]
          },
          "metadata": {},
          "execution_count": 16
        }
      ]
    },
    {
      "cell_type": "code",
      "source": [
        "coef_Correl=np.sqrt(coef_Deter)\n",
        "coef_Correl"
      ],
      "metadata": {
        "colab": {
          "base_uri": "https://localhost:8080/"
        },
        "id": "VTimQMM5oS2M",
        "outputId": "d17b5128-84c0-450e-a49b-07fa2409a5e3"
      },
      "execution_count": null,
      "outputs": [
        {
          "output_type": "execute_result",
          "data": {
            "text/plain": [
              "0.03756752653688425"
            ]
          },
          "metadata": {},
          "execution_count": 17
        }
      ]
    },
    {
      "cell_type": "code",
      "source": [
        "#Declaramos las variables dependientes e independientes para la regresión lineal\n",
        "Vars_Indep= df[['score_buro']]\n",
        "Var_Dep= df['pagos_realizados']\n",
        "#Se define model como la función de regresión lineal\n",
        "from sklearn.linear_model import LinearRegression\n",
        "model= LinearRegression()\n",
        "#Ajustamos el modelo con las variables antes declaradas\n",
        "model.fit(X=Vars_Indep, y=Var_Dep)\n",
        "#Verificamos los coeficientes obtenidos para el modelo ajustado\n",
        "model.__dict__"
      ],
      "metadata": {
        "id": "6Z3iMF1nocrg"
      },
      "execution_count": null,
      "outputs": []
    },
    {
      "cell_type": "markdown",
      "source": [
        "**4to Modelo Matemático: y=-0.03282908x +10.172388024218485**"
      ],
      "metadata": {
        "id": "QH0kJucFooQ5"
      }
    },
    {
      "cell_type": "code",
      "source": [
        "y_pred= model.predict(X=df[[\"score_buro\"]])\n",
        "y_pred"
      ],
      "metadata": {
        "id": "euft4Pnvojld"
      },
      "execution_count": null,
      "outputs": []
    },
    {
      "cell_type": "code",
      "source": [
        "coef_Deter=model.score(X=Vars_Indep, y=Var_Dep)\n",
        "coef_Deter"
      ],
      "metadata": {
        "colab": {
          "base_uri": "https://localhost:8080/"
        },
        "id": "WDDTRgdyokPK",
        "outputId": "74b589bf-1006-4f62-afca-307842c0e6e3"
      },
      "execution_count": null,
      "outputs": [
        {
          "output_type": "execute_result",
          "data": {
            "text/plain": [
              "0.0002557069223527719"
            ]
          },
          "metadata": {},
          "execution_count": 20
        }
      ]
    },
    {
      "cell_type": "code",
      "source": [
        "coef_Correl=np.sqrt(coef_Deter)\n",
        "coef_Correl"
      ],
      "metadata": {
        "colab": {
          "base_uri": "https://localhost:8080/"
        },
        "id": "ZJnlD0y-olsz",
        "outputId": "baeb5633-3298-4a84-a90c-91488922a4ef"
      },
      "execution_count": null,
      "outputs": [
        {
          "output_type": "execute_result",
          "data": {
            "text/plain": [
              "0.015990838700730238"
            ]
          },
          "metadata": {},
          "execution_count": 21
        }
      ]
    },
    {
      "cell_type": "code",
      "source": [
        "#Declaramos las variables dependientes e independientes para la regresión lineal\n",
        "Vars_Indep= df[['score_buro']]\n",
        "Var_Dep= df['riesgo']\n",
        "#Se define model como la función de regresión lineal\n",
        "from sklearn.linear_model import LinearRegression\n",
        "model= LinearRegression()\n",
        "#Ajustamos el modelo con las variables antes declaradas\n",
        "model.fit(X=Vars_Indep, y=Var_Dep)\n",
        "#Verificamos los coeficientes obtenidos para el modelo ajustado\n",
        "model.__dict__"
      ],
      "metadata": {
        "id": "4QFzh4nOo5NZ"
      },
      "execution_count": null,
      "outputs": []
    },
    {
      "cell_type": "markdown",
      "source": [
        "**5to Modelo Matemático: y=0.02461996x+2.1603808207395727**"
      ],
      "metadata": {
        "id": "Zn5kCoEntEOt"
      }
    },
    {
      "cell_type": "code",
      "source": [
        "y_pred= model.predict(X=df[[\"score_buro\"]])\n",
        "y_pred"
      ],
      "metadata": {
        "id": "ifymacNAsreT"
      },
      "execution_count": null,
      "outputs": []
    },
    {
      "cell_type": "code",
      "source": [
        "coef_Deter=model.score(X=Vars_Indep, y=Var_Dep)\n",
        "coef_Deter"
      ],
      "metadata": {
        "id": "3GaOcfA8sthd",
        "colab": {
          "base_uri": "https://localhost:8080/"
        },
        "outputId": "cee46d9e-b9a2-4180-e1bf-964aacab48af"
      },
      "execution_count": null,
      "outputs": [
        {
          "output_type": "execute_result",
          "data": {
            "text/plain": [
              "7.007499711020326e-05"
            ]
          },
          "metadata": {},
          "execution_count": 17
        }
      ]
    },
    {
      "cell_type": "code",
      "source": [
        "coef_Correl=np.sqrt(coef_Deter)\n",
        "coef_Correl"
      ],
      "metadata": {
        "id": "wcypiX3lsu5k",
        "colab": {
          "base_uri": "https://localhost:8080/"
        },
        "outputId": "4413f544-2b99-4e8f-f8bb-b041ed0d2b36"
      },
      "execution_count": null,
      "outputs": [
        {
          "output_type": "execute_result",
          "data": {
            "text/plain": [
              "0.00837108100009809"
            ]
          },
          "metadata": {},
          "execution_count": 18
        }
      ]
    },
    {
      "cell_type": "code",
      "source": [
        "#Declaramos las variables dependientes e independientes para la regresión lineal\n",
        "Vars_Indep= df[['score_buro']]\n",
        "Var_Dep= df['plazo']\n",
        "#Se define model como la función de regresión lineal\n",
        "from sklearn.linear_model import LinearRegression\n",
        "model= LinearRegression()\n",
        "#Ajustamos el modelo con las variables antes declaradas\n",
        "model.fit(X=Vars_Indep, y=Var_Dep)\n",
        "#Verificamos los coeficientes obtenidos para el modelo ajustado\n",
        "model.__dict__"
      ],
      "metadata": {
        "id": "-5Ma9s6BsxjZ"
      },
      "execution_count": null,
      "outputs": []
    },
    {
      "cell_type": "markdown",
      "source": [
        "**6to Modelo Matemático: y=0.06482148x+25.926221898296898**"
      ],
      "metadata": {
        "id": "zlJcg62ds5Hm"
      }
    },
    {
      "cell_type": "code",
      "source": [
        "y_pred= model.predict(X=df[[\"score_buro\"]])\n",
        "y_pred"
      ],
      "metadata": {
        "id": "xGEalM6Fs1LO"
      },
      "execution_count": null,
      "outputs": []
    },
    {
      "cell_type": "code",
      "source": [
        "coef_Deter=model.score(X=Vars_Indep, y=Var_Dep)\n",
        "coef_Deter"
      ],
      "metadata": {
        "id": "0TYxgGYws2d1",
        "colab": {
          "base_uri": "https://localhost:8080/"
        },
        "outputId": "38daf3ca-f543-4e87-a13e-10a93295bd0b"
      },
      "execution_count": null,
      "outputs": [
        {
          "output_type": "execute_result",
          "data": {
            "text/plain": [
              "0.0009418250456870725"
            ]
          },
          "metadata": {},
          "execution_count": 21
        }
      ]
    },
    {
      "cell_type": "code",
      "source": [
        "coef_Correl=np.sqrt(coef_Deter)\n",
        "coef_Correl"
      ],
      "metadata": {
        "id": "wOe7cz6ps322",
        "colab": {
          "base_uri": "https://localhost:8080/"
        },
        "outputId": "01f321b0-e5f6-4227-8252-9d6fb71f4f52"
      },
      "execution_count": null,
      "outputs": [
        {
          "output_type": "execute_result",
          "data": {
            "text/plain": [
              "0.030689168214323968"
            ]
          },
          "metadata": {},
          "execution_count": 22
        }
      ]
    },
    {
      "cell_type": "code",
      "source": [
        "#Declaramos las variables dependientes e independientes para la regresión lineal\n",
        "Vars_Indep= df[['score_buro']]\n",
        "Var_Dep= df['monto_financiado']\n",
        "#Se define model como la función de regresión lineal\n",
        "from sklearn.linear_model import LinearRegression\n",
        "model= LinearRegression()\n",
        "#Ajustamos el modelo con las variables antes declaradas\n",
        "model.fit(X=Vars_Indep, y=Var_Dep)\n",
        "#Verificamos los coeficientes obtenidos para el modelo ajustado\n",
        "model.__dict__"
      ],
      "metadata": {
        "id": "A9WXtPritH8T"
      },
      "execution_count": null,
      "outputs": []
    },
    {
      "cell_type": "markdown",
      "source": [
        "**7mo Modelo Matemático: y=-15.3639206x +3072.209876915044**"
      ],
      "metadata": {
        "id": "yY2qIWwftlV_"
      }
    },
    {
      "cell_type": "code",
      "source": [
        "y_pred= model.predict(X=df[[\"score_buro\"]])\n",
        "y_pred"
      ],
      "metadata": {
        "id": "I_NJFPWxtf9D"
      },
      "execution_count": null,
      "outputs": []
    },
    {
      "cell_type": "code",
      "source": [
        "coef_Deter=model.score(X=Vars_Indep, y=Var_Dep)\n",
        "coef_Deter"
      ],
      "metadata": {
        "colab": {
          "base_uri": "https://localhost:8080/"
        },
        "id": "ENCwmCRgthOa",
        "outputId": "f88db1dc-fcd2-45e1-9deb-d552f2ff4d03"
      },
      "execution_count": null,
      "outputs": [
        {
          "output_type": "execute_result",
          "data": {
            "text/plain": [
              "0.00438865960173207"
            ]
          },
          "metadata": {},
          "execution_count": 26
        }
      ]
    },
    {
      "cell_type": "code",
      "source": [
        "coef_Correl=np.sqrt(coef_Deter)\n",
        "coef_Correl"
      ],
      "metadata": {
        "colab": {
          "base_uri": "https://localhost:8080/"
        },
        "id": "-qnTLoAPtin8",
        "outputId": "a7fb23b8-7924-4da4-a6fd-977d2607745f"
      },
      "execution_count": null,
      "outputs": [
        {
          "output_type": "execute_result",
          "data": {
            "text/plain": [
              "0.06624695918857008"
            ]
          },
          "metadata": {},
          "execution_count": 27
        }
      ]
    },
    {
      "cell_type": "code",
      "source": [
        "#Declaramos las variables dependientes e independientes para la regresión lineal\n",
        "Vars_Indep= df[['score_buro']]\n",
        "Var_Dep= df['porc_enganche']\n",
        "#Se define model como la función de regresión lineal\n",
        "from sklearn.linear_model import LinearRegression\n",
        "model= LinearRegression()\n",
        "#Ajustamos el modelo con las variables antes declaradas\n",
        "model.fit(X=Vars_Indep, y=Var_Dep)\n",
        "#Verificamos los coeficientes obtenidos para el modelo ajustado\n",
        "model.__dict__"
      ],
      "metadata": {
        "id": "30o9TK0Et5Ag"
      },
      "execution_count": null,
      "outputs": []
    },
    {
      "cell_type": "markdown",
      "source": [
        "**8vo Modelo Matemático: y=-0.07220764x + 0.8455734321126249**"
      ],
      "metadata": {
        "id": "4WNhNE4K_i9D"
      }
    },
    {
      "cell_type": "code",
      "source": [
        "y_pred= model.predict(X=df[[\"score_buro\"]])\n",
        "y_pred"
      ],
      "metadata": {
        "id": "KkQN4Nue_5Ot"
      },
      "execution_count": null,
      "outputs": []
    },
    {
      "cell_type": "code",
      "source": [
        "coef_Deter=model.score(X=Vars_Indep, y=Var_Dep)\n",
        "coef_Deter"
      ],
      "metadata": {
        "colab": {
          "base_uri": "https://localhost:8080/"
        },
        "id": "mmwNBkN5_8LU",
        "outputId": "78d6445d-1338-411f-d51e-6815301eb66f"
      },
      "execution_count": null,
      "outputs": [
        {
          "output_type": "execute_result",
          "data": {
            "text/plain": [
              "0.002932300047172931"
            ]
          },
          "metadata": {},
          "execution_count": 37
        }
      ]
    },
    {
      "cell_type": "code",
      "source": [
        "coef_Correl=np.sqrt(coef_Deter)\n",
        "coef_Correl"
      ],
      "metadata": {
        "colab": {
          "base_uri": "https://localhost:8080/"
        },
        "id": "eeviAixn_9nr",
        "outputId": "e2dd4ac3-581e-409d-8613-9c86f2e1df93"
      },
      "execution_count": null,
      "outputs": [
        {
          "output_type": "execute_result",
          "data": {
            "text/plain": [
              "0.0541507160356438"
            ]
          },
          "metadata": {},
          "execution_count": 38
        }
      ]
    }
  ]
}